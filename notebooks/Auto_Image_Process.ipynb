{
 "cells": [
  {
   "cell_type": "code",
   "execution_count": 1,
   "metadata": {
    "collapsed": true
   },
   "outputs": [],
   "source": [
    "import glob\n",
    "import numpy as np\n",
    "import cv2 as cv2\n",
    "from pathlib import Path\n",
    "import pickle\n",
    "from tensorflow.keras.preprocessing.image import ImageDataGenerator, array_to_img, img_to_array, load_img"
   ]
  },
  {
   "cell_type": "code",
   "execution_count": 2,
   "metadata": {
    "collapsed": true
   },
   "outputs": [],
   "source": [
    "def resize_img(timg):\n",
    "    width = int(300/timg.shape[1] * timg.shape[1])\n",
    "    height = int(400/timg.shape[0] * timg.shape[0])\n",
    "    dim = (width, height)\n",
    "    resized = cv2.resize(timg, dim, interpolation = cv2.INTER_AREA)\n",
    "    return resized"
   ]
  },
  {
   "cell_type": "code",
   "execution_count": 3,
   "metadata": {
    "collapsed": true
   },
   "outputs": [],
   "source": [
    "#load image and get name\n",
    "def get_image_name():\n",
    "    try:\n",
    "        file_name = glob.glob('../data/temporary/*')\n",
    "        img = cv2.imread(str(file_name[0])) \n",
    "        im_rgb = cv2.cvtColor(img, cv2.COLOR_BGR2RGB)\n",
    "        subject_name = input('Name of person')\n",
    "    except:\n",
    "        print('Image Not Found')\n",
    "    return subject_name, im_rgb"
   ]
  },
  {
   "cell_type": "code",
   "execution_count": 4,
   "metadata": {
    "collapsed": true
   },
   "outputs": [],
   "source": [
    "def mutate_img(t_img, name):\n",
    "    '''Mutates and saves img to file, hardcoded to 5'''\n",
    "    datagen = ImageDataGenerator(\n",
    "        rotation_range= 10,\n",
    "        width_shift_range=0.2,\n",
    "        height_shift_range=0.2,\n",
    "        shear_range=0.1,\n",
    "        zoom_range=0.2,\n",
    "        horizontal_flip=False,\n",
    "        fill_mode='nearest')\n",
    "\n",
    "    x = img_to_array(t_img)  \n",
    "    x = x.reshape((1,) + x.shape)  \n",
    "    i = 0\n",
    "    for batch in datagen.flow(x, batch_size=1,\n",
    "                              save_to_dir='../data/processed/train/{}'.format(name), save_prefix='{}'.format(name),\n",
    "                              save_format='jpeg'):\n",
    "        i += 1\n",
    "        if i > 5:\n",
    "            break "
   ]
  },
  {
   "cell_type": "code",
   "execution_count": 5,
   "metadata": {
    "collapsed": true
   },
   "outputs": [],
   "source": [
    "def create_directory(name):\n",
    "    try:\n",
    "        filename = Path('../data/lfw/train/{}'.format(name)).mkdir()\n",
    "    except:\n",
    "        print('Could not create file')"
   ]
  },
  {
   "cell_type": "code",
   "execution_count": 6,
   "metadata": {},
   "outputs": [
    {
     "name": "stdout",
     "output_type": "stream",
     "text": [
      "Name of personEric_C\n",
      "Name: Eric_C, Shape(400, 300, 3)\n"
     ]
    }
   ],
   "source": [
    "def main():\n",
    "    name, img = get_image_name()\n",
    "    resized_img = resize_img(img)\n",
    "    create_directory(name)\n",
    "    print('Name: {}, Shape{}' .format(name, resized_img.shape))\n",
    "    mutate_img(resized_img, name)\n",
    "    \n",
    "main()"
   ]
  },
  {
   "cell_type": "code",
   "execution_count": null,
   "metadata": {
    "collapsed": true
   },
   "outputs": [],
   "source": []
  }
 ],
 "metadata": {
  "kernelspec": {
   "display_name": "Python [conda env:satview]",
   "language": "python",
   "name": "conda-env-satview-py"
  },
  "language_info": {
   "codemirror_mode": {
    "name": "ipython",
    "version": 3
   },
   "file_extension": ".py",
   "mimetype": "text/x-python",
   "name": "python",
   "nbconvert_exporter": "python",
   "pygments_lexer": "ipython3",
   "version": "3.7.13"
  }
 },
 "nbformat": 4,
 "nbformat_minor": 5
}
