{
 "cells": [
  {
   "cell_type": "code",
   "execution_count": 1,
   "id": "ca5e791a",
   "metadata": {},
   "outputs": [],
   "source": [
    "import numpy as np\n",
    "import glob\n",
    "import cv2 as cv2\n",
    "import dlib\n",
    "import face_recognition\n",
    "import pickle\n",
    "import matplotlib.pyplot as plt\n",
    "from matplotlib.pyplot import figure\n",
    "%matplotlib inline"
   ]
  },
  {
   "cell_type": "code",
   "execution_count": 2,
   "id": "9e4d7a4f",
   "metadata": {},
   "outputs": [],
   "source": [
    "font = cv2.FONT_HERSHEY_SIMPLEX\n",
    "fontScale = 1.0\n",
    "color = (255, 0, 0)\n",
    "thickness = 2"
   ]
  },
  {
   "cell_type": "code",
   "execution_count": 3,
   "id": "77225c40",
   "metadata": {},
   "outputs": [],
   "source": [
    "with open('../data/processed/lfw_names.pickle', 'rb') as handle:\n",
    "    names = pickle.load(handle)\n",
    "    \n",
    "with open('../data/processed/lfw_encodings.pickle', 'rb') as handle:\n",
    "    face_encodings = pickle.load(handle)"
   ]
  },
  {
   "cell_type": "code",
   "execution_count": 4,
   "id": "6ac9d473",
   "metadata": {},
   "outputs": [],
   "source": [
    "def matches(known_encodings, unknown_encoding):\n",
    "    distances = []\n",
    "    for k_e in known_encodings:\n",
    "        dist = np.linalg.norm(np.array(k_e) - np.array(unknown_encoding[0]), axis = 1)\n",
    "        distances.append(dist)\n",
    "    n = ['Unknown']\n",
    "    for i, j in enumerate(distances):\n",
    "        if j[0] < .6:\n",
    "            n.append(names[i])\n",
    "    try:\n",
    "        m = mode(n)\n",
    "    except:\n",
    "        m = n[0]\n",
    "    return m"
   ]
  },
  {
   "cell_type": "code",
   "execution_count": 5,
   "id": "4c6c3481",
   "metadata": {},
   "outputs": [],
   "source": [
    "def get_test_encoding(t_frame):\n",
    "    t_encodings = []\n",
    "    rgb = cv2.cvtColor(t_frame, cv2.COLOR_BGR2RGB)\n",
    "    boxes = face_recognition.face_locations(rgb)\n",
    "    if len(boxes) != 0:\n",
    "        encoding = face_recognition.face_encodings(rgb, boxes)\n",
    "        t_encodings.append(encoding)\n",
    "    return boxes, t_encodings"
   ]
  },
  {
   "cell_type": "code",
   "execution_count": 2,
   "id": "65627e30",
   "metadata": {},
   "outputs": [
    {
     "name": "stderr",
     "output_type": "stream",
     "text": [
      "[ WARN:0@0.023] global /private/var/folders/sy/f16zz6x50xz3113nwtb9bvq00000gp/T/abs_f6tvh9615u/croot/opencv-suite_1691620375715/work/modules/imgcodecs/src/loadsave.cpp (239) findDecoder imread_('IMG_0576.jpg'): can't open/read file: check file path/integrity\n"
     ]
    },
    {
     "ename": "error",
     "evalue": "OpenCV(4.6.0) /private/var/folders/sy/f16zz6x50xz3113nwtb9bvq00000gp/T/abs_f6tvh9615u/croot/opencv-suite_1691620375715/work/modules/imgproc/src/color.cpp:182: error: (-215:Assertion failed) !_src.empty() in function 'cvtColor'\n",
     "output_type": "error",
     "traceback": [
      "\u001b[0;31m---------------------------------------------------------------------------\u001b[0m",
      "\u001b[0;31merror\u001b[0m                                     Traceback (most recent call last)",
      "Cell \u001b[0;32mIn[2], line 3\u001b[0m\n\u001b[1;32m      1\u001b[0m \u001b[38;5;28;01mimport\u001b[39;00m \u001b[38;5;21;01mcv2\u001b[39;00m \u001b[38;5;28;01mas\u001b[39;00m \u001b[38;5;21;01mcv2\u001b[39;00m\n\u001b[1;32m      2\u001b[0m image \u001b[38;5;241m=\u001b[39m cv2\u001b[38;5;241m.\u001b[39mimread(\u001b[38;5;124m'\u001b[39m\u001b[38;5;124mIMG_0576.jpg\u001b[39m\u001b[38;5;124m'\u001b[39m)\n\u001b[0;32m----> 3\u001b[0m rgb \u001b[38;5;241m=\u001b[39m \u001b[43mcv2\u001b[49m\u001b[38;5;241;43m.\u001b[39;49m\u001b[43mcvtColor\u001b[49m\u001b[43m(\u001b[49m\u001b[43mimage\u001b[49m\u001b[43m,\u001b[49m\u001b[43m \u001b[49m\u001b[43mcv2\u001b[49m\u001b[38;5;241;43m.\u001b[39;49m\u001b[43mCOLOR_BGR2RGB\u001b[49m\u001b[43m)\u001b[49m\n\u001b[1;32m      4\u001b[0m bboxes \u001b[38;5;241m=\u001b[39m face_recognition\u001b[38;5;241m.\u001b[39mface_locations(rgb)\n\u001b[1;32m      5\u001b[0m \u001b[38;5;28;01mif\u001b[39;00m \u001b[38;5;28mlen\u001b[39m(bboxes) \u001b[38;5;241m>\u001b[39m \u001b[38;5;241m0\u001b[39m:\n",
      "\u001b[0;31merror\u001b[0m: OpenCV(4.6.0) /private/var/folders/sy/f16zz6x50xz3113nwtb9bvq00000gp/T/abs_f6tvh9615u/croot/opencv-suite_1691620375715/work/modules/imgproc/src/color.cpp:182: error: (-215:Assertion failed) !_src.empty() in function 'cvtColor'\n"
     ]
    }
   ],
   "source": [
    "image = cv2.imread('IMG_0576.jpg')\n",
    "rgb = cv2.cvtColor(image, cv2.COLOR_BGR2RGB)\n",
    "bboxes = face_recognition.face_locations(rgb)\n",
    "if len(bboxes) > 0:\n",
    "    t_encodings = face_recognition.face_encodings(image, bboxes)\n",
    "    for i, t in enumerate(t_encodings):\n",
    "        t_name = matches(face_encodings, t)\n",
    "        (y, r, b, x) = bboxes[i]\n",
    "        cv2.rectangle(image, (x, y), (r, b), (255, 0, 0), 2)\n",
    "        cv2.putText(image, '{}'.format(t_name), (x-10, y-10), font, fontScale, color, thickness, cv2.LINE_AA)\n",
    "figure(figsize=(10, 10))\n",
    "rgb_img = cv2.cvtColor(image, cv2.COLOR_BGR2RGB)\n",
    "plt.imshow(rgb_img);"
   ]
  },
  {
   "cell_type": "code",
   "execution_count": null,
   "id": "249e6ef9",
   "metadata": {},
   "outputs": [],
   "source": []
  }
 ],
 "metadata": {
  "kernelspec": {
   "display_name": "Python [conda env:py38]",
   "language": "python",
   "name": "conda-env-py38-py"
  },
  "language_info": {
   "codemirror_mode": {
    "name": "ipython",
    "version": 3
   },
   "file_extension": ".py",
   "mimetype": "text/x-python",
   "name": "python",
   "nbconvert_exporter": "python",
   "pygments_lexer": "ipython3",
   "version": "3.8.18"
  }
 },
 "nbformat": 4,
 "nbformat_minor": 5
}
