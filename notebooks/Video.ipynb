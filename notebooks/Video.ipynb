{
 "cells": [
  {
   "cell_type": "code",
   "execution_count": 2,
   "metadata": {},
   "outputs": [],
   "source": [
    "import numpy as np\n",
    "import cv2 as cv2\n",
    "import face_recognition\n",
    "from statistics import mode\n",
    "import pickle"
   ]
  },
  {
   "cell_type": "code",
   "execution_count": 3,
   "metadata": {},
   "outputs": [],
   "source": [
    "with open('../data/processed/lfw_names.pickle', 'rb') as handle:\n",
    "    names = pickle.load(handle)\n",
    "    \n",
    "with open('../data/processed/lfw_encodings.pickle', 'rb') as handle:\n",
    "    face_encodings = pickle.load(handle)"
   ]
  },
  {
   "cell_type": "code",
   "execution_count": 4,
   "metadata": {},
   "outputs": [],
   "source": [
    "def get_test_encoding(t_frame):\n",
    "    t_encodings = []\n",
    "    rgb = cv2.cvtColor(t_frame, cv2.COLOR_BGR2RGB)\n",
    "    boxes = face_recognition.face_locations(rgb)\n",
    "    if len(boxes) != 0:\n",
    "        encoding = face_recognition.face_encodings(rgb, boxes)\n",
    "        t_encodings.append(encoding)\n",
    "    return boxes, t_encodings"
   ]
  },
  {
   "cell_type": "code",
   "execution_count": 5,
   "metadata": {},
   "outputs": [],
   "source": [
    "def matches(known_encodings, unknown_encoding):\n",
    "    threshold = .6\n",
    "    #matches = []\n",
    "    matches = ['NOT SURE']\n",
    "    for i, k_e in enumerate(known_encodings):\n",
    "        dist = np.linalg.norm(np.array(k_e) - np.array(unknown_encoding[0]), axis = 1)\n",
    "        if dist[0] < threshold:\n",
    "            matches.append(names[i])\n",
    "    try:\n",
    "        match = mode(matches)\n",
    "    except:\n",
    "        match = n[0]\n",
    "    return match"
   ]
  },
  {
   "cell_type": "code",
   "execution_count": 6,
   "metadata": {},
   "outputs": [
    {
     "ename": "error",
     "evalue": "OpenCV(4.9.0) /Users/runner/miniforge3/conda-bld/libopencv_1711055252788/work/modules/imgproc/src/color.cpp:196: error: (-215:Assertion failed) !_src.empty() in function 'cvtColor'\n",
     "output_type": "error",
     "traceback": [
      "\u001b[0;31m---------------------------------------------------------------------------\u001b[0m",
      "\u001b[0;31merror\u001b[0m                                     Traceback (most recent call last)",
      "Cell \u001b[0;32mIn[6], line 9\u001b[0m\n\u001b[1;32m      7\u001b[0m cv2\u001b[38;5;241m.\u001b[39mstartWindowThread()\n\u001b[1;32m      8\u001b[0m ret, frame \u001b[38;5;241m=\u001b[39m cap\u001b[38;5;241m.\u001b[39mread()\n\u001b[0;32m----> 9\u001b[0m bboxes, t_encodings \u001b[38;5;241m=\u001b[39m \u001b[43mget_test_encoding\u001b[49m\u001b[43m(\u001b[49m\u001b[43mframe\u001b[49m\u001b[43m)\u001b[49m\n\u001b[1;32m     10\u001b[0m \u001b[38;5;28;01mif\u001b[39;00m \u001b[38;5;28mlen\u001b[39m(bboxes) \u001b[38;5;241m>\u001b[39m \u001b[38;5;241m0\u001b[39m:\n\u001b[1;32m     11\u001b[0m     \u001b[38;5;28;01mfor\u001b[39;00m i, t \u001b[38;5;129;01min\u001b[39;00m \u001b[38;5;28menumerate\u001b[39m(t_encodings):\n",
      "Cell \u001b[0;32mIn[4], line 3\u001b[0m, in \u001b[0;36mget_test_encoding\u001b[0;34m(t_frame)\u001b[0m\n\u001b[1;32m      1\u001b[0m \u001b[38;5;28;01mdef\u001b[39;00m \u001b[38;5;21mget_test_encoding\u001b[39m(t_frame):\n\u001b[1;32m      2\u001b[0m     t_encodings \u001b[38;5;241m=\u001b[39m []\n\u001b[0;32m----> 3\u001b[0m     rgb \u001b[38;5;241m=\u001b[39m \u001b[43mcv2\u001b[49m\u001b[38;5;241;43m.\u001b[39;49m\u001b[43mcvtColor\u001b[49m\u001b[43m(\u001b[49m\u001b[43mt_frame\u001b[49m\u001b[43m,\u001b[49m\u001b[43m \u001b[49m\u001b[43mcv2\u001b[49m\u001b[38;5;241;43m.\u001b[39;49m\u001b[43mCOLOR_BGR2RGB\u001b[49m\u001b[43m)\u001b[49m\n\u001b[1;32m      4\u001b[0m     boxes \u001b[38;5;241m=\u001b[39m face_recognition\u001b[38;5;241m.\u001b[39mface_locations(rgb)\n\u001b[1;32m      5\u001b[0m     \u001b[38;5;28;01mif\u001b[39;00m \u001b[38;5;28mlen\u001b[39m(boxes) \u001b[38;5;241m!=\u001b[39m \u001b[38;5;241m0\u001b[39m:\n",
      "\u001b[0;31merror\u001b[0m: OpenCV(4.9.0) /Users/runner/miniforge3/conda-bld/libopencv_1711055252788/work/modules/imgproc/src/color.cpp:196: error: (-215:Assertion failed) !_src.empty() in function 'cvtColor'\n"
     ]
    }
   ],
   "source": [
    "cap= cv2.VideoCapture(0)\n",
    "font = cv2.FONT_HERSHEY_SIMPLEX\n",
    "fontScale = 1.0\n",
    "color = (255, 0, 0)\n",
    "thickness = 2\n",
    "while True:\n",
    "    cv2.startWindowThread()\n",
    "    ret, frame = cap.read()\n",
    "    bboxes, t_encodings = get_test_encoding(frame)\n",
    "    if len(bboxes) > 0:\n",
    "        for i, t in enumerate(t_encodings):\n",
    "            t_name = matches(face_encodings, t)\n",
    "            (y, r, b, x) = bboxes[i]\n",
    "            cv2.rectangle(frame, (x, y), (r, b), (255, 0, 0), 2)\n",
    "            cv2.putText(frame, '{}'.format(t_name), (x-10, y-10), font, fontScale, color, thickness, cv2.LINE_AA)\n",
    "    cv2.imshow('Video', frame)\n",
    "    if cv2.waitKey(25) == 13:\n",
    "        cv2.destroyAllWindows()\n",
    "        cv2.waitKey(1)\n",
    "        break\n",
    "cv2.destroyAllWindows()\n",
    "cv2.waitKey(1)"
   ]
  },
  {
   "cell_type": "code",
   "execution_count": null,
   "metadata": {},
   "outputs": [],
   "source": []
  }
 ],
 "metadata": {
  "kernelspec": {
   "display_name": "Python [conda env:face_recognition] *",
   "language": "python",
   "name": "conda-env-face_recognition-py"
  },
  "language_info": {
   "codemirror_mode": {
    "name": "ipython",
    "version": 3
   },
   "file_extension": ".py",
   "mimetype": "text/x-python",
   "name": "python",
   "nbconvert_exporter": "python",
   "pygments_lexer": "ipython3",
   "version": "3.9.19"
  }
 },
 "nbformat": 4,
 "nbformat_minor": 4
}
