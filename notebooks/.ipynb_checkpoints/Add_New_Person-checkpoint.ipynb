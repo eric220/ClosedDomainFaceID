{
 "cells": [
  {
   "cell_type": "code",
   "execution_count": 1,
   "metadata": {},
   "outputs": [],
   "source": [
    "import glob\n",
    "import numpy as np\n",
    "import cv2 as cv2\n",
    "from pathlib import Path\n",
    "import pickle\n",
    "import face_recognition\n",
    "from tensorflow.keras.preprocessing.image import ImageDataGenerator, array_to_img, img_to_array, load_img"
   ]
  },
  {
   "cell_type": "code",
   "execution_count": 2,
   "metadata": {},
   "outputs": [],
   "source": [
    "def resize_img(timg):\n",
    "    \"\"\"\n",
    "    Resizes an image to a target width and height.\n",
    "\n",
    "    Parameters:\n",
    "        timg (numpy.ndarray): The input image to be resized.\n",
    "\n",
    "    Returns:\n",
    "        numpy.ndarray: The resized image.\n",
    "\n",
    "    \"\"\"\n",
    "    width = int(300/timg.shape[1] * timg.shape[1])\n",
    "    height = int(400/timg.shape[0] * timg.shape[0])\n",
    "    dim = (width, height)\n",
    "    resized = cv2.resize(timg, dim, interpolation = cv2.INTER_AREA)\n",
    "    return resized"
   ]
  },
  {
   "cell_type": "code",
   "execution_count": 3,
   "metadata": {},
   "outputs": [],
   "source": [
    "#load image and get name\n",
    "def get_image_name():\n",
    "    \"\"\"\n",
    "    Retrieves the name of a person associated with an image.\n",
    "\n",
    "    Returns:\n",
    "        tuple: A tuple containing the subject name and the image in RGB format.\n",
    "\n",
    "    Raises:\n",
    "        Exception: If an image is not found.\n",
    "\n",
    "    \"\"\"\n",
    "    try:\n",
    "        file_name = glob.glob('../data/temporary/*')\n",
    "        img = cv2.imread(str(file_name[0])) \n",
    "        im_rgb = cv2.cvtColor(img, cv2.COLOR_BGR2RGB)\n",
    "        subject_name = input('Name of person')\n",
    "    except:\n",
    "        print('Image Not Found')\n",
    "    return subject_name, im_rgb"
   ]
  },
  {
   "cell_type": "code",
   "execution_count": 4,
   "metadata": {},
   "outputs": [],
   "source": [
    "def create_directory(name):\n",
    "    \"\"\"\n",
    "    Creates a directory for storing processed temporary mutated images.\n",
    "\n",
    "    Parameters:\n",
    "        name (str): The name of the directory to be created.\n",
    "\n",
    "    Raises:\n",
    "        Exception: If the directory already exists.\n",
    "\n",
    "    \"\"\"\n",
    "    try:\n",
    "        filename = Path('../data/processed/temporary_mutated_images/{}'.format(name)).mkdir()\n",
    "    except:\n",
    "        print('Folder Already Exists')"
   ]
  },
  {
   "cell_type": "code",
   "execution_count": 5,
   "metadata": {},
   "outputs": [],
   "source": [
    "def delete_directory(f: Path):\n",
    "    if f.is_file():\n",
    "        f.unlink()\n",
    "    else:\n",
    "        for child in f.iterdir():\n",
    "            delete_directory(child)\n",
    "        f.rmdir()"
   ]
  },
  {
   "cell_type": "code",
   "execution_count": 6,
   "metadata": {},
   "outputs": [],
   "source": [
    "def mutate_img(t_img, name):\n",
    "    \"\"\"\n",
    "    Mutates and saves an image to a file.\n",
    "\n",
    "    Parameters:\n",
    "        t_img (PIL.Image.Image): The input image to be mutated.\n",
    "        name (str): The name of the image file and directory.\n",
    "\n",
    "    \"\"\"\n",
    "    datagen = ImageDataGenerator(\n",
    "        rotation_range= 25,\n",
    "        width_shift_range=0.2,\n",
    "        height_shift_range=0.2,\n",
    "        shear_range=0.1,\n",
    "        zoom_range=0.2,\n",
    "        horizontal_flip=False,\n",
    "        fill_mode='nearest')\n",
    "\n",
    "    x = img_to_array(t_img)  \n",
    "    x = x.reshape((1,) + x.shape)  \n",
    "    i = 0\n",
    "    for batch in datagen.flow(x, batch_size=1,\n",
    "                              save_to_dir='../data/processed/temporary_mutated_images/{}'.format(name), save_prefix='{}'.format(name),\n",
    "                              save_format='jpeg'):\n",
    "        i += 1\n",
    "        if i > 5:\n",
    "            break "
   ]
  },
  {
   "cell_type": "code",
   "execution_count": 7,
   "metadata": {},
   "outputs": [],
   "source": [
    "def save_data(data, filename):\n",
    "    with open(filename, 'wb') as handle:\n",
    "        pickle.dump(data, handle, protocol=pickle.HIGHEST_PROTOCOL)"
   ]
  },
  {
   "cell_type": "code",
   "execution_count": 8,
   "metadata": {},
   "outputs": [],
   "source": [
    "def get_names_encodings(file_path):\n",
    "    with open(file_path, 'rb') as handle:\n",
    "        return pickle.load(handle)"
   ]
  },
  {
   "cell_type": "code",
   "execution_count": 9,
   "metadata": {},
   "outputs": [],
   "source": [
    "def encodings_names(f_list):\n",
    "    \"\"\"\n",
    "    Extracts face encodings and corresponding names from a list of image file paths.\n",
    "\n",
    "    Parameters:\n",
    "        f_list (list): A list of image file paths.\n",
    "\n",
    "    Returns:\n",
    "        tuple: A tuple containing the extracted face encodings and corresponding names.\n",
    "\n",
    "    \"\"\"\n",
    "    t_face_encodings = []\n",
    "    t_names = []\n",
    "    for f in f_list[:]:\n",
    "        name = f.split('/')[4]\n",
    "        image = cv2.imread(f)\n",
    "        rgb = cv2.cvtColor(image, cv2.COLOR_BGR2RGB)\n",
    "        boxes = face_recognition.face_locations(rgb)\n",
    "        if len(boxes) != 0:\n",
    "            encodings = face_recognition.face_encodings(rgb, boxes)\n",
    "            t_face_encodings.append(encodings)\n",
    "            t_names.append(name)\n",
    "    return t_face_encodings, t_names"
   ]
  },
  {
   "cell_type": "code",
   "execution_count": 10,
   "metadata": {},
   "outputs": [
    {
     "name": "stdout",
     "output_type": "stream",
     "text": [
      "Name of personKing\n"
     ]
    }
   ],
   "source": [
    "def main():\n",
    "    name, img = get_image_name()\n",
    "    resized_img = resize_img(img)\n",
    "    create_directory(name)\n",
    "    mutate_img(resized_img, name)\n",
    "    names = get_names_encodings('../data/processed/lfw_names.pickle')\n",
    "    encodings = get_names_encodings('../data/processed/lfw_encodings.pickle')\n",
    "    file_list = glob.glob('../data/processed/temporary_mutated_images/{}/*'.format(name))\n",
    "    t_encodings, t_names = encodings_names(file_list)\n",
    "    for t in t_names:\n",
    "        names.append(t)\n",
    "    for e in t_encodings:\n",
    "        encodings.append(e)\n",
    "    assert len(names) == len(encodings)\n",
    "    save_data(names, '../data/processed/lfw_names.pickle')\n",
    "    save_data(encodings, '../data/processed/lfw_encodings.pickle')\n",
    "    delete_directory(Path('../data/processed/temporary_mutated_images/{}'.format(name)))  \n",
    "main()"
   ]
  },
  {
   "cell_type": "code",
   "execution_count": null,
   "metadata": {},
   "outputs": [],
   "source": []
  }
 ],
 "metadata": {
  "kernelspec": {
   "display_name": "Python [conda env:satview] *",
   "language": "python",
   "name": "conda-env-satview-py"
  },
  "language_info": {
   "codemirror_mode": {
    "name": "ipython",
    "version": 3
   },
   "file_extension": ".py",
   "mimetype": "text/x-python",
   "name": "python",
   "nbconvert_exporter": "python",
   "pygments_lexer": "ipython3",
   "version": "3.7.13"
  }
 },
 "nbformat": 4,
 "nbformat_minor": 2
}
