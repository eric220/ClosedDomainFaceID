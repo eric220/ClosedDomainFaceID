{
 "cells": [
  {
   "cell_type": "code",
   "execution_count": 1,
   "id": "9a412ef3",
   "metadata": {},
   "outputs": [],
   "source": [
    "import pickle"
   ]
  },
  {
   "cell_type": "code",
   "execution_count": 2,
   "id": "0309b9b0",
   "metadata": {},
   "outputs": [],
   "source": [
    "def get_names_encodings(file_path):\n",
    "    with open(file_path, 'rb') as handle:\n",
    "        return pickle.load(handle)"
   ]
  },
  {
   "cell_type": "code",
   "execution_count": 3,
   "id": "e58b9a04",
   "metadata": {},
   "outputs": [],
   "source": [
    "def save_data(data, filename):\n",
    "    with open(filename, 'wb') as handle:\n",
    "        pickle.dump(data, handle, protocol=pickle.HIGHEST_PROTOCOL)"
   ]
  },
  {
   "cell_type": "code",
   "execution_count": 20,
   "id": "6da20fd4",
   "metadata": {},
   "outputs": [],
   "source": [
    "names = get_names_encodings('../data/processed/lfw_names.pickle')\n",
    "encodings = get_names_encodings('../data/processed/lfw_encodings.pickle')"
   ]
  },
  {
   "cell_type": "code",
   "execution_count": 18,
   "id": "2bb30c75",
   "metadata": {},
   "outputs": [],
   "source": [
    "def remove_names_encodings(name_to_remove):\n",
    "    if (name_to_remove in names):\n",
    "        for i, n in enumerate(names):\n",
    "            if n == name_to_remove:\n",
    "                names.pop(i)\n",
    "                encodings.pop(i)\n",
    "                remove_names_encodings(name_to_remove)\n",
    "    else:\n",
    "        save_data(names, '../data/processed/lfw_names.pickle')\n",
    "        save_data(encodings, '../data/processed/lfw_encodings.pickle')\n",
    "remove_names_encodings(\"ERIC\")"
   ]
  },
  {
   "cell_type": "code",
   "execution_count": null,
   "id": "e4847fea",
   "metadata": {},
   "outputs": [],
   "source": []
  }
 ],
 "metadata": {
  "kernelspec": {
   "display_name": "Python [conda env:satview] *",
   "language": "python",
   "name": "conda-env-satview-py"
  },
  "language_info": {
   "codemirror_mode": {
    "name": "ipython",
    "version": 3
   },
   "file_extension": ".py",
   "mimetype": "text/x-python",
   "name": "python",
   "nbconvert_exporter": "python",
   "pygments_lexer": "ipython3",
   "version": "3.7.13"
  }
 },
 "nbformat": 4,
 "nbformat_minor": 5
}
